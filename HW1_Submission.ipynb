{
 "cells": [
  {
   "cell_type": "code",
   "execution_count": null,
   "metadata": {},
   "outputs": [],
   "source": [
    "# There is no need to run this chunk of code.\n",
    "import os\n",
    "wd=''\n",
    "os.chdir(wd)\n",
    "%run HW1_solutions.ipynb"
   ]
  },
  {
   "cell_type": "code",
   "execution_count": null,
   "metadata": {},
   "outputs": [],
   "source": []
  },
  {
   "cell_type": "markdown",
   "metadata": {},
   "source": [
    "## Homework 1 Submission\n",
    "Write your name and surname below:\n",
    "<br>\n",
    "Name:\n",
    "<br>\n",
    "Surname:"
   ]
  },
  {
   "cell_type": "markdown",
   "metadata": {},
   "source": [
    "***Problem 1:*** <br> Write a program that: <br>\n",
    "a. compares the lengths of two texts given below (i.e. the number of characters in each text) <br>\n",
    "b. compares the numbers of words in each text<br>\n",
    "c. calculates the frequency of each word (the number of times the word appears in the text) in each text and puts them in a dictionary <br>\n",
    "d. prints the number of unique words used in each text as a dictionary.\n",
    "<br>\n",
    "Example 1: {\"The legth of text a\": 487,\"The legth of text b\": 562}<br>\n",
    "Example 2: Word frequency- {\"Jovi\":2,\"in\": 4}\n"
   ]
  },
  {
   "cell_type": "code",
   "execution_count": 3,
   "metadata": {},
   "outputs": [],
   "source": [
    "a = 'Bon Jovi is an American rock band formed in 1983 in Sayreville, New Jersey. \\\n",
    "It consists of singer Jon Bon Jovi, keyboardist David Bryan, drummer Tico Torres, \\\n",
    "guitarist PhilX, and bassist Hugh McDonald. Previous bassist Alec John Such was \\\n",
    "dismissed in 1994, and longtime guitarist and co-songwriter Richie Sambora left in 2013.'\n",
    "\n",
    "b = \"Ronald Wilson Reagan (/ˈreɪɡən/; February 6, 1911 – June 5, 2004) \\\n",
    "was an American politician who served as the 40th president of the United \\\n",
    "States from 1981 to 1989. Prior to his presidency, he was a Hollywood actor \\\n",
    "and union leader before serving as the 33rd governor of California from 1967 to 1975.\""
   ]
  },
  {
   "cell_type": "code",
   "execution_count": 4,
   "metadata": {},
   "outputs": [],
   "source": [
    "###_____________Start code here_________________###\n",
    "\n",
    "#ex.a\n",
    "        \n",
    "texts={\"The legth of text a\":len(a),\"The legth of text b\":len(b)}\n",
    "print(len(a) != len(b))\n",
    "print(texts)\n",
    "\n",
    "\n",
    "\n",
    "\n",
    "###_____________End code here_________________###"
   ]
  },
  {
   "cell_type": "markdown",
   "metadata": {},
   "source": [
    "***Problem 13:*** Write a program to calculate the sum of the digits of a number  until it is a single-digit number (Example: **199** -> 1+9+9=**19** -> 1+9=**10** -> 1+0=**1**). Let the program print the result of each step (the bolded numbers in the example). Run the program for 289, 1011, 3333."
   ]
  },
  {
   "cell_type": "code",
   "execution_count": 13,
   "metadata": {},
   "outputs": [
    {
     "name": "stdout",
     "output_type": "stream",
     "text": [
      "step: 1011\n",
      "final: 3\n",
      "step: 3333\n",
      "step: 12\n",
      "final: 3\n",
      "step: 289\n",
      "step: 19\n",
      "step: 10\n",
      "final: 1\n"
     ]
    }
   ],
   "source": [
    "def program(count):\n",
    "    print(\"step: %i\"%(count))\n",
    "    int00= str(count)\n",
    "    int01= list(int00)\n",
    "    sum= 0;\n",
    "    for i in int01:\n",
    "        sum=sum+int(i)\n",
    "    if len(str(sum))>=2:\n",
    "\n",
    "        program(sum)\n",
    "    else:\n",
    "        print(\"final: %i\" %(sum))\n",
    "        \n",
    "program(1011)\n",
    "program(3333)\n",
    "program(289)"
   ]
  },
  {
   "cell_type": "markdown",
   "metadata": {},
   "source": [
    "***Problem 14:*** Write a program to print a chess board where **\"X\"s** are black squares and **\"O\"s** are white ones. Hint: you can use \"end\" parameter of print() function to print on the same line and separate the outputs of different prints by space or any character you want. More on this topic here: https://www.geeksforgeeks.org/gfact-50-python-end-parameter-in-print/.\n",
    "<br>The output should be like this:\n",
    "<img src=\"chess.jpg\" style=\"width: 200px;\">"
   ]
  },
  {
   "cell_type": "code",
   "execution_count": null,
   "metadata": {},
   "outputs": [],
   "source": [
    "def rooww(sign,sign2,summ):\n",
    "    space=\"\"\n",
    "    line=\"|\"\n",
    "    j = 0\n",
    "    while  summ>j:\n",
    "        space=space+line+sign+line+sign2 \n",
    "        j=j+1\n",
    "    space=space+line\n",
    "    print(space)\n",
    "\n",
    "    def chesboard(b,v):\n",
    "        for j in range(b):\n",
    "        border =\"---------\"\n",
    "        \n",
    "        if j%2==0:\n",
    "            rooww(\" x \",\" o \",v)\n",
    "            print(border *v)\n",
    "        else:\n",
    "            rooww(\" o \",\" x \", v)\n",
    "    print(border *v)    \n",
    "chesboard(8,4)"
   ]
  },
  {
   "cell_type": "markdown",
   "metadata": {},
   "source": [
    "***Problem 15:*** Write a program to reverse the digits of a given integer without using any built-in function or slicing. (**Example**: 12345 to 54321). Run the program for 4815162342."
   ]
  },
  {
   "cell_type": "code",
   "execution_count": null,
   "metadata": {},
   "outputs": [],
   "source": [
    "a= 4815162342\n",
    "def reverse(number):\n",
    "    space=\"\"\n",
    "    Num=str(number)\n",
    "    b=len(Num)\n",
    "    \n",
    "    for j in range(b):\n",
    "        space=space+Num[b-1-j]\n",
    "\n",
    "    j = int(space)  \n",
    "    return space\n",
    "print(rev(a))"
   ]
  },
  {
   "cell_type": "markdown",
   "metadata": {},
   "source": [
    "***Problem 17:*** Write a function that will find all numbers between A and B (inclusive) such that each digit of the number is even. For example foo(20,26) returns [22,24,26]. Call the function for A=40 and B=140. 0 is even number."
   ]
  },
  {
   "cell_type": "code",
   "execution_count": null,
   "metadata": {},
   "outputs": [],
   "source": [
    "###_____________Start code here_________________###\n",
    "def foo(A,B):\n",
    "\n",
    "    listeven=[]\n",
    "    \n",
    "    for a in range(A+1,B+1):\n",
    "        if a%2==0:\n",
    "            listeven.append(a)\n",
    "            A=40\n",
    "            B=140\n",
    "    return listeven\n",
    "\n",
    "print(foo(A,B))                  \n",
    "\n",
    "\n",
    "\n",
    "###_____________End code here_________________###"
   ]
  },
  {
   "cell_type": "code",
   "execution_count": null,
   "metadata": {},
   "outputs": [],
   "source": [
    "# There is no need to run this chunk of code.\n",
    "ex17(40,140)"
   ]
  },
  {
   "cell_type": "markdown",
   "metadata": {},
   "source": [
    "***Problem 18:*** On basic cell phones numeric keypad is used to write a message. Write a function to output the numerical sequence of the keys to be pressed for any message. For instance, numerical sequence for typing \"P\" will be 7 and for \"I\" 444. Another example, the sequence for \"hello\" will be 4433555555666. Make the input text uppercase before converting to numerical sequence. Call the function for the following input **\"HI DEAR! I WILL BE LATE TODAY.\"**\n",
    "\n",
    "| Key | Symbols |\n",
    "|----|----|\n",
    "|1|. , ? ! :|\n",
    "|2|A B C|\n",
    "|3|D E F|\n",
    "|4|G H I|\n",
    "|5|J K L|\n",
    "|6|M N O|\n",
    "|7|P Q R S|\n",
    "|8|T U V|\n",
    "|9|W X Y Z|\n",
    "|0| space |\n"
   ]
  },
  {
   "cell_type": "code",
   "execution_count": 14,
   "metadata": {},
   "outputs": [],
   "source": [
    "###_____________Start code here_________________###\n",
    "message = {'.': '1', ',': '11', '?': '111',\"!\":\"1111\" ,':': '11111', 'A': '2', 'B': '22', 'C': '222', 'D': '3', 'E': '33', 'F': '333', 'G': '4', 'H': \"44\", 'I': '444', 'J': '5', 'K': '55', 'L': '555', 'M': '6', 'N': '66', 'O': '666', 'P': '7', 'Q': '77', 'R': '777', 'S': '7777', 'T': '8', 'U': '88', 'V': '888', 'W': '9', 'X': '99', 'Y': '999', 'Z': '9999', \" \": '0'}\n",
    "def write(symbols):\n",
    "    sequence=list(symbols)\n",
    "    mess= \"\"\n",
    "    for i in sequence:\n",
    "        mess = mess+message[i]\n",
    "    print(mess)\n",
    "write(\"HI DEAR! I WILL BE LATE TODAY.\")\n",
    "\n",
    "###_____________End code here_________________###"
   ]
  },
  {
   "cell_type": "markdown",
   "metadata": {},
   "source": [
    "***Problem 20:*** Write a program that accepts a sentence and prints the number of letters and digits in it. Run the program for \"1, 2, 3, 4... Let's run the code!\" "
   ]
  },
  {
   "cell_type": "code",
   "execution_count": 16,
   "metadata": {},
   "outputs": [],
   "source": [
    "###_____________Start code here_________________###\n",
    "string= \"1, 2, 3, 4... Let's run the code!\"\n",
    "numberss=sum(string.isdigit() \n",
    "         for string in string)\n",
    "signs= sum(string.isalpha()\n",
    "        for string in string)\n",
    "\n",
    "\n",
    "\n",
    "print(numbers)\n",
    "print(signs)\n",
    "    \n",
    "\n",
    "###_____________End code here_________________###"
   ]
  },
  {
   "cell_type": "markdown",
   "metadata": {},
   "source": [
    "***Problem 22:*** Two people throw two six-sided fair dices each. The one with greater sum wins, and if the sum is equal, they draw. Write a program that simulates the game and plays 100 time. Print the number of wins of Player 1, Player 2 and draws."
   ]
  },
  {
   "cell_type": "code",
   "execution_count": 18,
   "metadata": {},
   "outputs": [],
   "source": [
    "###_____________Start code here_________________###\n",
    "import random\n",
    "play1=0\n",
    "play2=0\n",
    "draws=0\n",
    "for i in range(100):\n",
    "    player01=0\n",
    "    player02=0\n",
    "    for n in range(2):\n",
    "        player01=random.randint(1,6)+player01\n",
    "        player02=random.randint(1,6)+player02   \n",
    "    if player01>player02:\n",
    "        play1+=1\n",
    "    elif player01< player02:\n",
    "        play2+=1\n",
    "    else:\n",
    "        draws+=1\n",
    "print(\"number of wins of Player 01: %i\" %(play1))\n",
    "print(\"number of wins of Player 02: %i\" %(play2))\n",
    "print(\"draws: %i\" %(draws))\n",
    "\n",
    "\n",
    "###_____________End code here_________________###"
   ]
  },
  {
   "cell_type": "markdown",
   "metadata": {},
   "source": [
    "***Problem 23:*** Write a program that randomly generates a nine-character password. First 3 characters must be from the set \"let\", second 3 characters from the set \"num\", last three ones from the set \"sym\". Set seed() to 42 and generate a password."
   ]
  },
  {
   "cell_type": "code",
   "execution_count": 20,
   "metadata": {},
   "outputs": [],
   "source": [
    "let = {'A','B','C','a','b','c'}\n",
    "num = {1,2,3,4,5,6}\n",
    "sym = {'!','@','#','$','%','^'}"
   ]
  },
  {
   "cell_type": "code",
   "execution_count": 21,
   "metadata": {},
   "outputs": [],
   "source": [
    "###_____________Start code here_________________###\n",
    "import random\n",
    "\n",
    "letls = list(let)\n",
    "numls = list(char)\n",
    "symls = list(sym)\n",
    "\n",
    "blok=[]\n",
    "random.seed(42)\n",
    "for i in range(9):\n",
    "    if i <3:\n",
    "        blok.append(random.choice(letls))\n",
    "    elif i <6:  \n",
    "        blok.append(random.choice(charls))\n",
    "    else:\n",
    "        blok.append(random.choice(symbls))\n",
    "stp= ''.join(str(a) for a in blok)  \n",
    "\n",
    "\n",
    "###_____________End code here_________________###"
   ]
  },
  {
   "cell_type": "markdown",
   "metadata": {},
   "source": [
    "\n",
    "***Problem 24:*** Write a program to find all the numbers divisible by 6 but not a multiple of 5 between 100 and 500 (inclusive). Print the numbers as a comma-separated string."
   ]
  },
  {
   "cell_type": "code",
   "execution_count": 23,
   "metadata": {},
   "outputs": [],
   "source": [
    "###_____________Start code here_________________###\n",
    "listofelements=[]\n",
    "for i in range(99,501):\n",
    "   \n",
    "        if i%5 != 0:\n",
    "          if i%6 == 0:\n",
    "            listofelements.append(i)\n",
    "print(listofelements)\n",
    "\n",
    "###_____________End code here_________________###"
   ]
  },
  {
   "cell_type": "markdown",
   "metadata": {},
   "source": [
    "***Example 25:*** Write a program that converts \"firstname lastname\" to \"lastname, firstname\", using list comprehensions."
   ]
  },
  {
   "cell_type": "code",
   "execution_count": 25,
   "metadata": {},
   "outputs": [],
   "source": [
    "ls = ['Հրաչյա Վարդանյան', 'Անուշ Կարապետյան', 'Գոռ Անտոնյան', 'Տաթեւ Հարությունյան', 'Mary Sargsyan']"
   ]
  },
  {
   "cell_type": "code",
   "execution_count": 26,
   "metadata": {},
   "outputs": [],
   "source": [
    "###_____________Start code here_________________###\n",
    "\n",
    "ls = ['Հրաչյա Վարդանյան', 'Անուշ Կարապետյան', 'Գոռ Անտոնյան', 'Տաթեւ Հարությունյան', 'Mary Sargsyan']\n",
    "for i in range(0,len(ls)):\n",
    "    list=[]\n",
    "    names=ls[i].split()\n",
    "    a=(frr[::-1])\n",
    "print(a)\n",
    "###_____________End code here_________________###"
   ]
  },
  {
   "cell_type": "markdown",
   "metadata": {},
   "source": [
    "***Problem 27:*** Write a function to devide an input list of ages between 0 and 70 into 4 groups.<br><br>\n",
    "Baby Boomers  - (50 to 70 years old]<br>\n",
    "Generation X - (34 to 50 years old]<br>\n",
    "Generation Y - (18 to 34 years old]<br>\n",
    "Generation Z - [0 to 18 years old]<br>\n",
    "\n",
    "Return a dictionary with the following structure:\n",
    "{'Group 1':[ages],'Group 2':[ages],'Group 3':[ages],'Group 4':[ages]}"
   ]
  },
  {
   "cell_type": "code",
   "execution_count": 28,
   "metadata": {},
   "outputs": [],
   "source": [
    "ls = [18,29,3,14,69,10,1,58,52,23,24,5,65]\n",
    "###_____________Start code here_________________###\n",
    "\n",
    "List=[\"Baby Boomers \",\"Generation X\",\"Generation Y\",\"Generation Z\"]\n",
    "Listofages=[\"(50 to 70 years old]\",\"(35 to 50 years old]\" ,\"(18 to 34 years old]\",\"[0 to 18 years old]\"]\n",
    "def groups(name,ages):\n",
    "    listofages=dict(zip(name,ages))\n",
    "    return listofages\n",
    "print(groups(List, Listofages))\n",
    "###_____________End code here_________________###"
   ]
  }
 ],
 "metadata": {
  "kernelspec": {
   "display_name": "Python 3",
   "language": "python",
   "name": "python3"
  },
  "language_info": {
   "codemirror_mode": {
    "name": "ipython",
    "version": 3
   },
   "file_extension": ".py",
   "mimetype": "text/x-python",
   "name": "python",
   "nbconvert_exporter": "python",
   "pygments_lexer": "ipython3",
   "version": "3.7.1"
  }
 },
 "nbformat": 4,
 "nbformat_minor": 2
}
